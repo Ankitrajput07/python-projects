{
 "cells": [
  {
   "cell_type": "code",
   "execution_count": 6,
   "id": "cc40ef57",
   "metadata": {},
   "outputs": [],
   "source": [
    "#Iterater,Iteration,Iterabel in python.\n",
    "\n",
    "item = [\"APPLE\",\"BANANA\",\"CHARE\",\"DATE\",\"MEGO\"]\n",
    "\n",
    "object_item = iter(item)\n",
    "\n",
    "# for i in range(1,len(item)+1):\n",
    "#     print(next(object_item))\n",
    "\n"
   ]
  },
  {
   "cell_type": "code",
   "execution_count": 7,
   "id": "68a38905",
   "metadata": {},
   "outputs": [
    {
     "name": "stdout",
     "output_type": "stream",
     "text": [
      "APPLE\n"
     ]
    }
   ],
   "source": [
    "print(next(object_item))"
   ]
  },
  {
   "cell_type": "code",
   "execution_count": 9,
   "id": "fb46326e",
   "metadata": {},
   "outputs": [
    {
     "name": "stdout",
     "output_type": "stream",
     "text": [
      "12\n",
      "23\n",
      "54\n"
     ]
    }
   ],
   "source": [
    "l = [12,23,54,55,32,65]\n",
    "\n",
    "iter_obj = l.__iter__()\n",
    "print(next(iter_obj))\n",
    "print(next(iter_obj))\n",
    "print(next(iter_obj))\n"
   ]
  },
  {
   "cell_type": "code",
   "execution_count": 11,
   "id": "25b6cf0d",
   "metadata": {},
   "outputs": [
    {
     "data": {
      "text/plain": [
       "' Name = Ankit rajput , Age = 18 , password = 1234,ID = <built-in function id>'"
      ]
     },
     "execution_count": 11,
     "metadata": {},
     "output_type": "execute_result"
    }
   ],
   "source": [
    "class User:\n",
    "    def __init__(self,ide,name,age,passcode):\n",
    "        self.ide = id \n",
    "        self.name = name\n",
    "        self.age = age\n",
    "        self.passcode = passcode\n",
    "\n",
    "    def _user_data(self):\n",
    "        return f' Name = {self.name} , Age = {self.age} , password = {self.passcode},ID = {self.ide}'\n",
    "    \n",
    "class Student(User):\n",
    "    def __init__(self, roll_no ,subject,ide,name,age,passcode):\n",
    "        super().__init__(ide,name,age,passcode)\n",
    "        self.roll_no = roll_no\n",
    "        self.subject = subject\n",
    "\n",
    "    def std_data(self):\n",
    "        return super()._user_data()\n",
    "\n",
    "s1 = Student(1,'pcm',\"xyz\",'Ankit rajput' , 18 , 1234) \n",
    "s1.std_data()    \n",
    "\n",
    "\n",
    "        \n",
    "\n",
    "    "
   ]
  },
  {
   "cell_type": "code",
   "execution_count": 7,
   "id": "0c76c78d",
   "metadata": {},
   "outputs": [
    {
     "name": "stdout",
     "output_type": "stream",
     "text": [
      "(8, 10)\n"
     ]
    }
   ],
   "source": [
    "class Mul:\n",
    "    def __init__(self,x,y):\n",
    "        self.x = x\n",
    "        self.y = y\n",
    "\n",
    "    def __mul__(self,scale):\n",
    "        return self.x * scale,self.y * scale \n",
    "    def __str__(self):\n",
    "        return f'{self.x} , {self.y}'\n",
    "    \n",
    "m1 = Mul(4,5)\n",
    "m2 = m1*2\n",
    "print(m2)"
   ]
  },
  {
   "cell_type": "code",
   "execution_count": null,
   "id": "0b566c36",
   "metadata": {},
   "outputs": [],
   "source": []
  }
 ],
 "metadata": {
  "kernelspec": {
   "display_name": "Python 3",
   "language": "python",
   "name": "python3"
  },
  "language_info": {
   "codemirror_mode": {
    "name": "ipython",
    "version": 3
   },
   "file_extension": ".py",
   "mimetype": "text/x-python",
   "name": "python",
   "nbconvert_exporter": "python",
   "pygments_lexer": "ipython3",
   "version": "3.13.2"
  }
 },
 "nbformat": 4,
 "nbformat_minor": 5
}
