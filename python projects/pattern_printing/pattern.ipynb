{
 "cells": [
  {
   "cell_type": "markdown",
   "id": "52600eec",
   "metadata": {},
   "source": [
    "#### python pattern printing."
   ]
  },
  {
   "cell_type": "code",
   "execution_count": 8,
   "id": "8f8c3235",
   "metadata": {},
   "outputs": [
    {
     "name": "stdout",
     "output_type": "stream",
     "text": [
      "\n",
      "* \n",
      "* * * \n",
      "* * * * * \n",
      "* * * * * * * \n",
      "* * * * * * * * * \n"
     ]
    }
   ],
   "source": [
    "num = int(input(\"Enter your rows:\"))\n",
    "\n",
    "for i in range(num+1):\n",
    "    for j in range((i*2)-1):\n",
    "        print(\"*\",end=\" \")\n",
    "    print()"
   ]
  },
  {
   "cell_type": "code",
   "execution_count": 4,
   "id": "9c15dc76",
   "metadata": {},
   "outputs": [
    {
     "name": "stdout",
     "output_type": "stream",
     "text": [
      "          \n",
      "        * \n",
      "      * * \n",
      "    * * * \n",
      "  * * * * \n",
      "* * * * * \n"
     ]
    }
   ],
   "source": [
    "num = int(input(\"Enter your Rows:\"))\n",
    "\n",
    "def patt(num):\n",
    "    for i in range(num+1):\n",
    "        for space in range(num-i):\n",
    "            print(\" \",end=\" \")\n",
    "        for j in range(i):\n",
    "            print(\"*\",end=\" \")\n",
    "        print()\n",
    "\n",
    "patt(num)"
   ]
  },
  {
   "cell_type": "code",
   "execution_count": 5,
   "id": "2bb53957",
   "metadata": {},
   "outputs": [
    {
     "name": "stdout",
     "output_type": "stream",
     "text": [
      "     \n",
      "    * \n",
      "   * * \n",
      "  * * * \n",
      " * * * * \n",
      "* * * * * \n"
     ]
    }
   ],
   "source": [
    "num = int(input('Enter your Rows:'))\n",
    "\n",
    "def patt(num):\n",
    "    for i in range(num+1):\n",
    "        for space in range(num-i):\n",
    "            print(\"\",end=' ')\n",
    "        for j in range(i):\n",
    "            print(\"*\",end=\" \")\n",
    "        print()\n",
    "\n",
    "patt(num)"
   ]
  },
  {
   "cell_type": "code",
   "execution_count": 10,
   "id": "9520e70a",
   "metadata": {},
   "outputs": [
    {
     "name": "stdout",
     "output_type": "stream",
     "text": [
      "1\n"
     ]
    },
    {
     "ename": "StopIteration",
     "evalue": "",
     "output_type": "error",
     "traceback": [
      "\u001b[31m---------------------------------------------------------------------------\u001b[39m",
      "\u001b[31mStopIteration\u001b[39m                             Traceback (most recent call last)",
      "\u001b[36mCell\u001b[39m\u001b[36m \u001b[39m\u001b[32mIn[10]\u001b[39m\u001b[32m, line 5\u001b[39m\n\u001b[32m      2\u001b[39m step = \u001b[38;5;28miter\u001b[39m(l)\n\u001b[32m      4\u001b[39m \u001b[38;5;28mprint\u001b[39m(\u001b[38;5;28mnext\u001b[39m(step))\n\u001b[32m----> \u001b[39m\u001b[32m5\u001b[39m \u001b[38;5;28mprint\u001b[39m(\u001b[38;5;28;43mnext\u001b[39;49m\u001b[43m(\u001b[49m\u001b[43mx\u001b[49m\u001b[43m \u001b[49m\u001b[38;5;28;43;01mfor\u001b[39;49;00m\u001b[43m \u001b[49m\u001b[43mx\u001b[49m\u001b[43m \u001b[49m\u001b[38;5;129;43;01min\u001b[39;49;00m\u001b[43m \u001b[49m\u001b[43mstep\u001b[49m\u001b[43m \u001b[49m\u001b[38;5;28;43;01mif\u001b[39;49;00m\u001b[43m \u001b[49m\u001b[43mx\u001b[49m\u001b[43m>\u001b[49m\u001b[32;43m4\u001b[39;49m\u001b[43m)\u001b[49m,\u001b[38;5;28;01mNone\u001b[39;00m)\n\u001b[32m      6\u001b[39m \u001b[38;5;66;03m# print(next(step),None)\u001b[39;00m\n",
      "\u001b[31mStopIteration\u001b[39m: "
     ]
    }
   ],
   "source": [
    "l = [1,2]\n",
    "step = iter(l)\n",
    "\n",
    "print(next(step))\n",
    "print(next(x for x in step if x>4),None)\n",
    "# print(next(step),None)"
   ]
  },
  {
   "cell_type": "code",
   "execution_count": 6,
   "id": "7aa2b93b",
   "metadata": {},
   "outputs": [
    {
     "name": "stdout",
     "output_type": "stream",
     "text": [
      "Welcome to the A.S 7*******STAR hotal.\n",
      "Pizza:99\n",
      "Barger:60\n",
      "Pastaa:40\n",
      "Hakka nudals:80\n",
      "Rise:60\n",
      "Biryani:120\n",
      "Chate:30\n",
      "Order taked sucssesfully:).\n",
      "Your billing amount is 99,\n",
      "have a good day :)\n"
     ]
    }
   ],
   "source": [
    "#Adding availabel items in your hotal\n",
    "\n",
    "items = {\n",
    "    \"Pizza\" : 99,\n",
    "    'Barger' : 60,\n",
    "    'Pastaa' : 40,\n",
    "    'Hakka nudals' : 80,\n",
    "    'Rise' : 60,\n",
    "    \"Biryani\" : 120,\n",
    "    'Chate' : 30\n",
    "}\n",
    "\n",
    "#Greeting \n",
    "print('Welcome to the A.S 7*******STAR hotal.')\n",
    "\n",
    "total_order = 0\n",
    "print(f\"Pizza:99\\nBarger:60\\nPastaa:40\\nHakka nudals:80\\nRise:60\\nBiryani:120\\nChate:30\")\n",
    "\n",
    "item1 = input(\"Enter your order\").capitalize()\n",
    "\n",
    "if item1 in items:\n",
    "    total_order +=items[item1]\n",
    "    print(\"Order taked sucssesfully:).\")\n",
    "\n",
    "else:\n",
    "    print('I am so feel gladi but this item is not in our menu plz try something....!')\n",
    "\n",
    "while True:\n",
    "    somthing_order = input(\"Can you order somthing next?(Yes/No):\").capitalize()\n",
    "\n",
    "    if somthing_order == 'Yes':\n",
    "\n",
    "        item2 = input(\"Enter your next order sir...:)\").capitalize()\n",
    "\n",
    "        if item2 in items:\n",
    "            total_order+=items[item2]\n",
    "            print(\"Your next order taked sucssesfully:).\")\n",
    "\n",
    "        else:\n",
    "            print('I am so feel gladi but this item is not in our menu plz try something....!')\n",
    "\n",
    "    else:\n",
    "        break\n",
    "\n",
    "print(f\"Your billing amount is {total_order},\\nhave a good day :)\")"
   ]
  }
 ],
 "metadata": {
  "kernelspec": {
   "display_name": "Python 3",
   "language": "python",
   "name": "python3"
  },
  "language_info": {
   "codemirror_mode": {
    "name": "ipython",
    "version": 3
   },
   "file_extension": ".py",
   "mimetype": "text/x-python",
   "name": "python",
   "nbconvert_exporter": "python",
   "pygments_lexer": "ipython3",
   "version": "3.13.2"
  }
 },
 "nbformat": 4,
 "nbformat_minor": 5
}
